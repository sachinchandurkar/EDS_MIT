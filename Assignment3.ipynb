{
  "cells": [
    {
      "cell_type": "markdown",
      "metadata": {
        "id": "view-in-github",
        "colab_type": "text"
      },
      "source": [
        "<a href=\"https://colab.research.google.com/github/sachinchandurkar/EDS_MIT/blob/main/Assignment3.ipynb\" target=\"_parent\"><img src=\"https://colab.research.google.com/assets/colab-badge.svg\" alt=\"Open In Colab\"/></a>"
      ]
    },
    {
      "cell_type": "markdown",
      "id": "c6c79dca",
      "metadata": {
        "id": "c6c79dca"
      },
      "source": [
        "<b>Essential of Data Science Lab Assignment No: 3</b>\n",
        "1. Perform all the Numpy operations in python.\n",
        "Lab Assignment:\n",
        "Prepare/Take dataset for any real life application. Read a dataset into an array. Perform following\n",
        "operations on it as:\n",
        "- Perform all matrix operations\n",
        "- Horizontal and vertical stacking of Numpy Arrays\n",
        "- Custom sequence generation\n",
        "- Arithmetic and Statistical Operations, Mathematical Operations, Bitwise Operators\n",
        "- Copying and viewing arrays\n",
        "- Data Stacking, Searching, Sorting, Counting, Broadcasting\n",
        "Self Study Assignment: For any real life application, perform advanced data operations such as\n",
        "image as array and image manipulations.\n"
      ]
    },
    {
      "cell_type": "code",
      "execution_count": null,
      "id": "73e53cf5",
      "metadata": {
        "id": "73e53cf5"
      },
      "outputs": [],
      "source": [
        "import numpy as np"
      ]
    },
    {
      "cell_type": "code",
      "execution_count": null,
      "id": "6bc6c122",
      "metadata": {
        "colab": {
          "base_uri": "https://localhost:8080/"
        },
        "id": "6bc6c122",
        "outputId": "f7c183fc-cc5e-4582-9a2f-3737f4cb7675"
      },
      "outputs": [
        {
          "output_type": "execute_result",
          "data": {
            "text/plain": [
              "array([[1, 2, 3],\n",
              "       [4, 5, 6],\n",
              "       [7, 8, 9]])"
            ]
          },
          "metadata": {},
          "execution_count": 2
        }
      ],
      "source": [
        "array1=np.array([[1,2,3],[4,5,6],[7,8,9]])\n",
        "array1"
      ]
    },
    {
      "cell_type": "code",
      "execution_count": null,
      "id": "bb523ddc",
      "metadata": {
        "colab": {
          "base_uri": "https://localhost:8080/"
        },
        "id": "bb523ddc",
        "outputId": "0a2c687e-a8df-4203-9c2a-e02e6e448c84"
      },
      "outputs": [
        {
          "output_type": "execute_result",
          "data": {
            "text/plain": [
              "array([[11, 12, 13],\n",
              "       [14, 15, 16],\n",
              "       [17, 18, 19]])"
            ]
          },
          "metadata": {},
          "execution_count": 3
        }
      ],
      "source": [
        "array2=np.array([[11,12,13],[14,15,16],[17,18,19]])\n",
        "array2"
      ]
    },
    {
      "cell_type": "markdown",
      "id": "37329834",
      "metadata": {
        "id": "37329834"
      },
      "source": [
        "# 1. Matrix Operation\n",
        "## 1.1 Addition"
      ]
    },
    {
      "cell_type": "code",
      "execution_count": null,
      "id": "9ada1b73",
      "metadata": {
        "colab": {
          "base_uri": "https://localhost:8080/"
        },
        "id": "9ada1b73",
        "outputId": "9f8aa531-d7e5-4d84-d56e-a8a12cd24490"
      },
      "outputs": [
        {
          "output_type": "stream",
          "name": "stdout",
          "text": [
            "\n",
            "Using Operator:\n",
            " [[12 14 16]\n",
            " [18 20 22]\n",
            " [24 26 28]]\n",
            "\n",
            "Using Numpy Function:\n",
            " [[12 14 16]\n",
            " [18 20 22]\n",
            " [24 26 28]]\n"
          ]
        }
      ],
      "source": [
        "resultarray=array1+array2\n",
        "print(\"\\nUsing Operator:\\n\",resultarray)\n",
        "resultarray=np.add(array1,array2)\n",
        "print(\"\\nUsing Numpy Function:\\n\",resultarray)"
      ]
    },
    {
      "cell_type": "markdown",
      "id": "48db338d",
      "metadata": {
        "id": "48db338d"
      },
      "source": [
        "## 1.2. Subtraction"
      ]
    },
    {
      "cell_type": "code",
      "execution_count": null,
      "id": "408a1fa7",
      "metadata": {
        "colab": {
          "base_uri": "https://localhost:8080/"
        },
        "id": "408a1fa7",
        "outputId": "bb26fe9d-c2f1-46a3-d808-294bb35aa242"
      },
      "outputs": [
        {
          "output_type": "stream",
          "name": "stdout",
          "text": [
            "\n",
            "Using Operator:\n",
            " [[-10 -10 -10]\n",
            " [-10 -10 -10]\n",
            " [-10 -10 -10]]\n",
            "\n",
            "Using Numpy Function:\n",
            " [[-10 -10 -10]\n",
            " [-10 -10 -10]\n",
            " [-10 -10 -10]]\n"
          ]
        }
      ],
      "source": [
        "resultarray=array1-array2\n",
        "print(\"\\nUsing Operator:\\n\",resultarray)\n",
        "resultarray=np.subtract(array1,array2)\n",
        "print(\"\\nUsing Numpy Function:\\n\",resultarray)"
      ]
    },
    {
      "cell_type": "markdown",
      "id": "de07f54f",
      "metadata": {
        "id": "de07f54f"
      },
      "source": [
        "## 1.3. Multiplication"
      ]
    },
    {
      "cell_type": "code",
      "execution_count": null,
      "id": "9f17e644",
      "metadata": {
        "colab": {
          "base_uri": "https://localhost:8080/"
        },
        "id": "9f17e644",
        "outputId": "acb6ad7d-1737-421f-a523-89d240d6a889"
      },
      "outputs": [
        {
          "output_type": "stream",
          "name": "stdout",
          "text": [
            "\n",
            "Using Operator:\n",
            " [[ 11  24  39]\n",
            " [ 56  75  96]\n",
            " [119 144 171]]\n",
            "\n",
            "Using Numpy Function:\n",
            " [[ 11  24  39]\n",
            " [ 56  75  96]\n",
            " [119 144 171]]\n"
          ]
        }
      ],
      "source": [
        "resultarray=array1*array2\n",
        "print(\"\\nUsing Operator:\\n\",resultarray)\n",
        "resultarray=np.multiply(array1,array2)\n",
        "print(\"\\nUsing Numpy Function:\\n\",resultarray)"
      ]
    },
    {
      "cell_type": "markdown",
      "id": "9c94c0f3",
      "metadata": {
        "id": "9c94c0f3"
      },
      "source": [
        "## 1.4. Division"
      ]
    },
    {
      "cell_type": "code",
      "execution_count": null,
      "id": "affe667a",
      "metadata": {
        "colab": {
          "base_uri": "https://localhost:8080/"
        },
        "id": "affe667a",
        "outputId": "a7137c03-bb98-477d-d36d-e716ee4f48fd"
      },
      "outputs": [
        {
          "output_type": "stream",
          "name": "stdout",
          "text": [
            "\n",
            "Using Operator:\n",
            " [[0.09090909 0.16666667 0.23076923]\n",
            " [0.28571429 0.33333333 0.375     ]\n",
            " [0.41176471 0.44444444 0.47368421]]\n",
            "\n",
            "Using Numpy Function:\n",
            " [[0.09090909 0.16666667 0.23076923]\n",
            " [0.28571429 0.33333333 0.375     ]\n",
            " [0.41176471 0.44444444 0.47368421]]\n"
          ]
        }
      ],
      "source": [
        "resultarray=array1/array2\n",
        "print(\"\\nUsing Operator:\\n\",resultarray)\n",
        "resultarray=np.divide(array1,array2)\n",
        "print(\"\\nUsing Numpy Function:\\n\",resultarray)"
      ]
    },
    {
      "cell_type": "markdown",
      "id": "3a217521",
      "metadata": {
        "id": "3a217521"
      },
      "source": [
        "## 1.5. Mod"
      ]
    },
    {
      "cell_type": "code",
      "execution_count": null,
      "id": "e41518a3",
      "metadata": {
        "colab": {
          "base_uri": "https://localhost:8080/"
        },
        "id": "e41518a3",
        "outputId": "89ee3b18-2bb8-4f54-c5ba-9dd5d3cae4ce"
      },
      "outputs": [
        {
          "output_type": "stream",
          "name": "stdout",
          "text": [
            "\n",
            "Using Operator:\n",
            " [[1 2 3]\n",
            " [4 5 6]\n",
            " [7 8 9]]\n",
            "\n",
            "Using Numpy Function:\n",
            " [[1 2 3]\n",
            " [4 5 6]\n",
            " [7 8 9]]\n"
          ]
        }
      ],
      "source": [
        "resultarray=array1%array2\n",
        "print(\"\\nUsing Operator:\\n\",resultarray)\n",
        "resultarray=np.mod(array1,array2)\n",
        "print(\"\\nUsing Numpy Function:\\n\",resultarray)"
      ]
    },
    {
      "cell_type": "markdown",
      "id": "5b4c483a",
      "metadata": {
        "id": "5b4c483a"
      },
      "source": [
        "## 1.6. dot Product"
      ]
    },
    {
      "cell_type": "code",
      "execution_count": null,
      "id": "424a300b",
      "metadata": {
        "colab": {
          "base_uri": "https://localhost:8080/"
        },
        "id": "424a300b",
        "outputId": "27842059-7f38-4343-98d7-df05fde0ade6"
      },
      "outputs": [
        {
          "output_type": "stream",
          "name": "stdout",
          "text": [
            " [[ 90  96 102]\n",
            " [216 231 246]\n",
            " [342 366 390]]\n"
          ]
        }
      ],
      "source": [
        "resultarray=np.dot(array1,array2)\n",
        "print(\"\",resultarray)"
      ]
    },
    {
      "cell_type": "markdown",
      "id": "421df1a8",
      "metadata": {
        "id": "421df1a8"
      },
      "source": [
        "## 1.7. Transpose"
      ]
    },
    {
      "cell_type": "code",
      "execution_count": null,
      "id": "2d95ebad",
      "metadata": {
        "colab": {
          "base_uri": "https://localhost:8080/"
        },
        "id": "2d95ebad",
        "outputId": "f8bc0abb-a37d-462b-942c-34f154c713b6"
      },
      "outputs": [
        {
          "output_type": "stream",
          "name": "stdout",
          "text": [
            "[[1 4 7]\n",
            " [2 5 8]\n",
            " [3 6 9]]\n",
            "[[1 4 7]\n",
            " [2 5 8]\n",
            " [3 6 9]]\n"
          ]
        }
      ],
      "source": [
        "resultarray=np.transpose(array1)\n",
        "print(resultarray)\n",
        "#Or\n",
        "resultarray=array1.transpose()\n",
        "print(resultarray)"
      ]
    },
    {
      "cell_type": "markdown",
      "id": "57952e14",
      "metadata": {
        "id": "57952e14"
      },
      "source": [
        "# 2. Horizontal and vertical stacking of Numpy Arrays"
      ]
    },
    {
      "cell_type": "markdown",
      "id": "e9d2aede",
      "metadata": {
        "id": "e9d2aede"
      },
      "source": [
        "## 2.1. Horizontal Stacking"
      ]
    },
    {
      "cell_type": "code",
      "execution_count": null,
      "id": "83ad3151",
      "metadata": {
        "colab": {
          "base_uri": "https://localhost:8080/"
        },
        "id": "83ad3151",
        "outputId": "4b4baa15-16c1-4c28-b8f2-5b4798525fa0"
      },
      "outputs": [
        {
          "output_type": "execute_result",
          "data": {
            "text/plain": [
              "array([[ 1,  2,  3, 11, 12, 13],\n",
              "       [ 4,  5,  6, 14, 15, 16],\n",
              "       [ 7,  8,  9, 17, 18, 19]])"
            ]
          },
          "metadata": {},
          "execution_count": 11
        }
      ],
      "source": [
        "\n",
        "resultarray=np.hstack((array1,array2))\n",
        "resultarray"
      ]
    },
    {
      "cell_type": "markdown",
      "id": "2c742c57",
      "metadata": {
        "id": "2c742c57"
      },
      "source": [
        "## 2.2. Vertical Stacking"
      ]
    },
    {
      "cell_type": "code",
      "execution_count": null,
      "id": "a884c273",
      "metadata": {
        "colab": {
          "base_uri": "https://localhost:8080/"
        },
        "id": "a884c273",
        "outputId": "a231e9e1-a53b-42a3-db8f-c1aa751f43b4"
      },
      "outputs": [
        {
          "output_type": "execute_result",
          "data": {
            "text/plain": [
              "array([[ 1,  2,  3],\n",
              "       [ 4,  5,  6],\n",
              "       [ 7,  8,  9],\n",
              "       [11, 12, 13],\n",
              "       [14, 15, 16],\n",
              "       [17, 18, 19]])"
            ]
          },
          "metadata": {},
          "execution_count": 12
        }
      ],
      "source": [
        "resultarray=np.vstack((array1,array2))\n",
        "resultarray"
      ]
    },
    {
      "cell_type": "markdown",
      "id": "19681f7f",
      "metadata": {
        "id": "19681f7f"
      },
      "source": [
        "# 3.Custom sequence generation"
      ]
    },
    {
      "cell_type": "markdown",
      "id": "9f7c216c",
      "metadata": {
        "id": "9f7c216c"
      },
      "source": [
        "## 3.1. Range"
      ]
    },
    {
      "cell_type": "code",
      "execution_count": null,
      "id": "e68b6d48",
      "metadata": {
        "colab": {
          "base_uri": "https://localhost:8080/"
        },
        "id": "e68b6d48",
        "outputId": "f208ee6a-1918-43fc-c872-b7377daea2ff"
      },
      "outputs": [
        {
          "output_type": "execute_result",
          "data": {
            "text/plain": [
              "array([[ 0,  1,  2,  3],\n",
              "       [ 4,  5,  6,  7],\n",
              "       [ 8,  9, 10, 11]])"
            ]
          },
          "metadata": {},
          "execution_count": 13
        }
      ],
      "source": [
        "nparray=np.arange(0,12,1).reshape(3,4)\n",
        "nparray"
      ]
    },
    {
      "cell_type": "markdown",
      "id": "1643d6cf",
      "metadata": {
        "id": "1643d6cf"
      },
      "source": [
        "## 3.2. Linearly Separable"
      ]
    },
    {
      "cell_type": "code",
      "execution_count": null,
      "id": "8fa1458c",
      "metadata": {
        "colab": {
          "base_uri": "https://localhost:8080/"
        },
        "id": "8fa1458c",
        "outputId": "24a90b69-1594-46aa-9a98-32e79ce96e21"
      },
      "outputs": [
        {
          "output_type": "execute_result",
          "data": {
            "text/plain": [
              "array([[ 0.        ,  2.18181818,  4.36363636,  6.54545455],\n",
              "       [ 8.72727273, 10.90909091, 13.09090909, 15.27272727],\n",
              "       [17.45454545, 19.63636364, 21.81818182, 24.        ]])"
            ]
          },
          "metadata": {},
          "execution_count": 14
        }
      ],
      "source": [
        "nparray=np.linspace(start=0,stop=24,num=12).reshape(3,4)\n",
        "nparray"
      ]
    },
    {
      "cell_type": "markdown",
      "id": "9a483563",
      "metadata": {
        "id": "9a483563"
      },
      "source": [
        "## 3.3. Empty Array"
      ]
    },
    {
      "cell_type": "code",
      "execution_count": null,
      "id": "52b786ab",
      "metadata": {
        "colab": {
          "base_uri": "https://localhost:8080/"
        },
        "id": "52b786ab",
        "outputId": "0d911113-024c-4ffd-9dc4-ec3c5fcc39c1"
      },
      "outputs": [
        {
          "output_type": "execute_result",
          "data": {
            "text/plain": [
              "array([[ 90,  96, 102],\n",
              "       [216, 231, 246],\n",
              "       [342, 366, 390]])"
            ]
          },
          "metadata": {},
          "execution_count": 15
        }
      ],
      "source": [
        "nparray=np.empty((3,3),int)\n",
        "nparray"
      ]
    },
    {
      "cell_type": "markdown",
      "id": "c4e624c8",
      "metadata": {
        "id": "c4e624c8"
      },
      "source": [
        "## 3.4. Emply Like Some other array"
      ]
    },
    {
      "cell_type": "code",
      "execution_count": null,
      "id": "8923a9d6",
      "metadata": {
        "colab": {
          "base_uri": "https://localhost:8080/"
        },
        "id": "8923a9d6",
        "outputId": "ad716666-41e7-4f79-d755-1e7db22c3624"
      },
      "outputs": [
        {
          "output_type": "execute_result",
          "data": {
            "text/plain": [
              "array([[1, 2, 3],\n",
              "       [4, 5, 6],\n",
              "       [7, 8, 9]])"
            ]
          },
          "metadata": {},
          "execution_count": 16
        }
      ],
      "source": [
        "nparray=np.empty_like(array1)\n",
        "nparray"
      ]
    },
    {
      "cell_type": "markdown",
      "id": "c5037270",
      "metadata": {
        "id": "c5037270"
      },
      "source": [
        "## 3.5. Identity Matrix"
      ]
    },
    {
      "cell_type": "code",
      "execution_count": null,
      "id": "33888c02",
      "metadata": {
        "colab": {
          "base_uri": "https://localhost:8080/"
        },
        "id": "33888c02",
        "outputId": "a7fc8407-c22b-4121-f793-1e91c2ec22aa"
      },
      "outputs": [
        {
          "output_type": "execute_result",
          "data": {
            "text/plain": [
              "array([[1., 0., 0.],\n",
              "       [0., 1., 0.],\n",
              "       [0., 0., 1.]])"
            ]
          },
          "metadata": {},
          "execution_count": 17
        }
      ],
      "source": [
        "nparray=np.identity(3)\n",
        "nparray"
      ]
    },
    {
      "cell_type": "markdown",
      "id": "d915e969",
      "metadata": {
        "id": "d915e969"
      },
      "source": [
        "# 4. Arithmetic and Statistical Operations, Mathematical Operations, Bitwise Operators"
      ]
    },
    {
      "cell_type": "markdown",
      "id": "9dee72d6",
      "metadata": {
        "id": "9dee72d6"
      },
      "source": [
        "## 4.1. Arithmetic Operation"
      ]
    },
    {
      "cell_type": "code",
      "execution_count": null,
      "id": "5dc6e743",
      "metadata": {
        "colab": {
          "base_uri": "https://localhost:8080/"
        },
        "id": "5dc6e743",
        "outputId": "9f4670bf-1d42-494c-e5dc-28ecd940cd1f"
      },
      "outputs": [
        {
          "output_type": "stream",
          "name": "stdout",
          "text": [
            "[1 2 3 4 5]\n",
            "[11 12 13 14 15]\n"
          ]
        }
      ],
      "source": [
        "array1=np.array([1,2,3,4,5])\n",
        "array2=np.array([11,12,13,14,15])\n",
        "print(array1)\n",
        "print(array2)"
      ]
    },
    {
      "cell_type": "code",
      "execution_count": null,
      "id": "9bdce61b",
      "metadata": {
        "colab": {
          "base_uri": "https://localhost:8080/"
        },
        "id": "9bdce61b",
        "outputId": "fce1079f-d21c-42c3-eced-615fc7e7eadb"
      },
      "outputs": [
        {
          "output_type": "stream",
          "name": "stdout",
          "text": [
            "[12 14 16 18 20]\n",
            "[-10 -10 -10 -10 -10]\n",
            "[11 24 39 56 75]\n",
            "[0.09090909 0.16666667 0.23076923 0.28571429 0.33333333]\n"
          ]
        }
      ],
      "source": [
        "# Addition\n",
        "print(np.add(array1,array2))\n",
        "# Subtraction\n",
        "print(np.subtract(array1,array2))\n",
        "# Multiplication\n",
        "print(np.multiply(array1,array2))\n",
        "# Division\n",
        "print(np.divide(array1,array2))"
      ]
    },
    {
      "cell_type": "markdown",
      "id": "48277c71",
      "metadata": {
        "id": "48277c71"
      },
      "source": [
        "## 4.2. Statistical and Mathematical Operations"
      ]
    },
    {
      "cell_type": "code",
      "execution_count": null,
      "id": "0dd090df",
      "metadata": {
        "colab": {
          "base_uri": "https://localhost:8080/"
        },
        "id": "0dd090df",
        "outputId": "3a5e3bfe-ed6a-4e6f-f957-3fd84d18526e"
      },
      "outputs": [
        {
          "output_type": "stream",
          "name": "stdout",
          "text": [
            "2.7990553306073913\n",
            "1\n",
            "63\n",
            "6.0\n",
            "5.7272727272727275\n",
            "Most Frequent element= [9]\n",
            "Number of Occarances= [3]\n",
            "7.834710743801653\n"
          ]
        },
        {
          "output_type": "stream",
          "name": "stderr",
          "text": [
            "<ipython-input-20-e89f83956b1b>:14: FutureWarning: Unlike other reduction functions (e.g. `skew`, `kurtosis`), the default behavior of `mode` typically preserves the axis it acts along. In SciPy 1.11.0, this behavior will change: the default value of `keepdims` will become False, the `axis` over which the statistic is taken will be eliminated, and the value None will no longer be accepted. Set `keepdims` to True or False to avoid this warning.\n",
            "  print(\"Most Frequent element=\",stats.mode(array1)[0])\n",
            "<ipython-input-20-e89f83956b1b>:15: FutureWarning: Unlike other reduction functions (e.g. `skew`, `kurtosis`), the default behavior of `mode` typically preserves the axis it acts along. In SciPy 1.11.0, this behavior will change: the default value of `keepdims` will become False, the `axis` over which the statistic is taken will be eliminated, and the value None will no longer be accepted. Set `keepdims` to True or False to avoid this warning.\n",
            "  print(\"Number of Occarances=\",stats.mode(array1)[1])\n"
          ]
        }
      ],
      "source": [
        "array1=np.array([1,2,3,4,5,9,6,7,8,9,9])\n",
        "# Standard Deviation\n",
        "print(np.std(array1))\n",
        "#Minimum\n",
        "print(np.min(array1))\n",
        "#Summation\n",
        "print(np.sum(array1))\n",
        "#Median\n",
        "print(np.median(array1))\n",
        "#Mean\n",
        "print(np.mean(array1))\n",
        "#Mode\n",
        "from scipy import stats\n",
        "print(\"Most Frequent element=\",stats.mode(array1)[0])\n",
        "print(\"Number of Occarances=\",stats.mode(array1)[1])\n",
        "# Variance\n",
        "print(np.var(array1))"
      ]
    },
    {
      "cell_type": "markdown",
      "id": "77e24845",
      "metadata": {
        "id": "77e24845"
      },
      "source": [
        "## 4.3. Bitwise Operations"
      ]
    },
    {
      "cell_type": "code",
      "execution_count": null,
      "id": "2afff7b9",
      "metadata": {
        "colab": {
          "base_uri": "https://localhost:8080/"
        },
        "id": "2afff7b9",
        "outputId": "9817cc27-6f38-41d7-d1af-7decd1e03491"
      },
      "outputs": [
        {
          "output_type": "stream",
          "name": "stdout",
          "text": [
            "[0 0 2]\n",
            "[5 7 7]\n",
            "[ 4  8 12]\n",
            "[0 0 0]\n"
          ]
        }
      ],
      "source": [
        "array1=np.array([1,2,3],dtype=np.uint8)\n",
        "array2=np.array([4,5,6])\n",
        "# AND\n",
        "resultarray=np.bitwise_and(array1,array2)\n",
        "print(resultarray)\n",
        "# OR\n",
        "resultarray=np.bitwise_or(array1,array2)\n",
        "print(resultarray)\n",
        "#LeftShift\n",
        "resultarray=np.left_shift(array1,2)\n",
        "print(resultarray)\n",
        "#RightShift\n",
        "resultarray=np.right_shift(array1,2)\n",
        "print(resultarray)"
      ]
    },
    {
      "cell_type": "code",
      "execution_count": null,
      "id": "ac245f5c",
      "metadata": {
        "colab": {
          "base_uri": "https://localhost:8080/"
        },
        "id": "ac245f5c",
        "outputId": "2be4fa44-ada2-429e-d2da-57c92f636122"
      },
      "outputs": [
        {
          "output_type": "stream",
          "name": "stdout",
          "text": [
            "00001010\n",
            "40\n",
            "00101000\n"
          ]
        }
      ],
      "source": [
        " ### You can get Binary Representation of Number ######\n",
        "print(np.binary_repr(10,8))\n",
        "resultarray=np.left_shift(10,2)\n",
        "print(resultarray)\n",
        "print(np.binary_repr(np.left_shift(10,2),8))"
      ]
    },
    {
      "cell_type": "markdown",
      "id": "dda4bda3",
      "metadata": {
        "id": "dda4bda3"
      },
      "source": [
        "# 5.Copying and viewing arrays"
      ]
    },
    {
      "cell_type": "markdown",
      "id": "fb492fc1",
      "metadata": {
        "id": "fb492fc1"
      },
      "source": [
        "## 5.1 Copy"
      ]
    },
    {
      "cell_type": "code",
      "execution_count": null,
      "id": "66d610a4",
      "metadata": {
        "colab": {
          "base_uri": "https://localhost:8080/"
        },
        "id": "66d610a4",
        "outputId": "43529e40-22f3-4d3a-99ce-f8229a2b74ae"
      },
      "outputs": [
        {
          "output_type": "stream",
          "name": "stdout",
          "text": [
            "[1 2 3 4 5 6 7 8 9]\n",
            "[1 2 3 4 5 6 7 8 9]\n",
            "[100   2   3   4   5   6   7   8   9]\n",
            "[1 2 3 4 5 6 7 8 9]\n"
          ]
        }
      ],
      "source": [
        "array1=np.arange(1,10)\n",
        "print(array1)\n",
        "newarray=array1.copy()\n",
        "print(newarray)\n",
        "##modification in Original Array\n",
        "array1[0]=100\n",
        "print(array1)\n",
        "print(newarray)"
      ]
    },
    {
      "cell_type": "markdown",
      "id": "7c5be3c5",
      "metadata": {
        "id": "7c5be3c5"
      },
      "source": [
        "# 5.2 View"
      ]
    },
    {
      "cell_type": "code",
      "execution_count": null,
      "id": "21487364",
      "metadata": {
        "colab": {
          "base_uri": "https://localhost:8080/"
        },
        "id": "21487364",
        "outputId": "68f5e58d-40dd-4763-fa6f-6df11d4067ec"
      },
      "outputs": [
        {
          "output_type": "stream",
          "name": "stdout",
          "text": [
            "[1 2 3 4 5 6 7 8 9]\n",
            "[1 2 3 4 5 6 7 8 9]\n",
            "[100   2   3   4   5   6   7   8   9]\n",
            "[100   2   3   4   5   6   7   8   9]\n"
          ]
        }
      ],
      "source": [
        "array1=np.arange(1,10)\n",
        "print(array1)\n",
        "newarray=array1.view()\n",
        "print(newarray)\n",
        "##modification in Original Array\n",
        "array1[0]=100\n",
        "print(array1)\n",
        "print(newarray)"
      ]
    },
    {
      "cell_type": "markdown",
      "id": "edaa4966",
      "metadata": {
        "id": "edaa4966"
      },
      "source": [
        "# 6. Searching"
      ]
    },
    {
      "cell_type": "code",
      "execution_count": null,
      "id": "31ec6b1c",
      "metadata": {
        "colab": {
          "base_uri": "https://localhost:8080/"
        },
        "id": "31ec6b1c",
        "outputId": "784aac0d-7517-4308-8a09-62da50664a94"
      },
      "outputs": [
        {
          "output_type": "stream",
          "name": "stdout",
          "text": [
            "[[ 1  2  3 12  5  7]\n",
            " [94  5  6  7 89 44]\n",
            " [ 7  8  9 11 13 14]]\n"
          ]
        }
      ],
      "source": [
        "array1=np.array([[1,2,3,12,5,7],[94,5,6,7,89,44],[7,8,9,11,13,14]])\n",
        "print(array1)"
      ]
    },
    {
      "cell_type": "code",
      "execution_count": null,
      "id": "e46e441a",
      "metadata": {
        "colab": {
          "base_uri": "https://localhost:8080/"
        },
        "id": "e46e441a",
        "outputId": "a1539cb2-4695-493b-cf64-e538ee4562e8"
      },
      "outputs": [
        {
          "output_type": "execute_result",
          "data": {
            "text/plain": [
              "array([[ 1,  2,  3,  7,  5,  7],\n",
              "       [ 7,  5,  6, 11, 13, 14],\n",
              "       [94,  8,  9, 12, 89, 44]])"
            ]
          },
          "metadata": {},
          "execution_count": 26
        }
      ],
      "source": [
        "np.sort(array1,axis=0)#Horizontally Sort"
      ]
    },
    {
      "cell_type": "code",
      "execution_count": null,
      "id": "a3c06850",
      "metadata": {
        "colab": {
          "base_uri": "https://localhost:8080/"
        },
        "id": "a3c06850",
        "outputId": "af0a43d9-72bc-4a64-8945-894164ab7d23"
      },
      "outputs": [
        {
          "output_type": "execute_result",
          "data": {
            "text/plain": [
              "array([[ 1,  2,  3,  5,  7, 12],\n",
              "       [ 5,  6,  7, 44, 89, 94],\n",
              "       [ 7,  8,  9, 11, 13, 14]])"
            ]
          },
          "metadata": {},
          "execution_count": 27
        }
      ],
      "source": [
        "np.sort(array1,axis=1)# Vertically Sort"
      ]
    },
    {
      "cell_type": "markdown",
      "id": "824b57f5",
      "metadata": {
        "id": "824b57f5"
      },
      "source": [
        "# 7. Searching"
      ]
    },
    {
      "cell_type": "code",
      "execution_count": null,
      "id": "9611b959",
      "metadata": {
        "colab": {
          "base_uri": "https://localhost:8080/"
        },
        "id": "9611b959",
        "outputId": "e11ad136-4441-4fd3-bf19-53b16bfd5283"
      },
      "outputs": [
        {
          "output_type": "execute_result",
          "data": {
            "text/plain": [
              "3"
            ]
          },
          "metadata": {},
          "execution_count": 28
        }
      ],
      "source": [
        "array1=np.array([1,2,3,12,5,7])\n",
        "np.searchsorted(array1,7,side=\"left\")#Perform Search After sorting"
      ]
    },
    {
      "cell_type": "markdown",
      "id": "cdc50d5d",
      "metadata": {
        "id": "cdc50d5d"
      },
      "source": [
        "# 8. Counting"
      ]
    },
    {
      "cell_type": "code",
      "execution_count": null,
      "id": "6f937553",
      "metadata": {
        "colab": {
          "base_uri": "https://localhost:8080/"
        },
        "id": "6f937553",
        "outputId": "dffa1151-c5b3-4f92-d544-3bbf597dbdaf"
      },
      "outputs": [
        {
          "output_type": "stream",
          "name": "stdout",
          "text": [
            "6\n",
            "(array([0, 1, 2, 3, 4, 5]),)\n",
            "7\n"
          ]
        }
      ],
      "source": [
        "array1=np.array([1,2,3,12,5,7,0])\n",
        "print(np.count_nonzero(array1))#Return total Non Zero element\n",
        "print(np.nonzero(array1))#Return Index\n",
        "print(array1.size)#Total Element\n"
      ]
    },
    {
      "cell_type": "markdown",
      "id": "36f25d18",
      "metadata": {
        "id": "36f25d18"
      },
      "source": [
        "# 9. Data Stacking"
      ]
    },
    {
      "cell_type": "code",
      "execution_count": null,
      "id": "134b5e73",
      "metadata": {
        "colab": {
          "base_uri": "https://localhost:8080/"
        },
        "id": "134b5e73",
        "outputId": "d2f63425-8b22-4a71-b2f7-c8c5539dd84e"
      },
      "outputs": [
        {
          "output_type": "stream",
          "name": "stdout",
          "text": [
            "[[1 2]\n",
            " [3 4]]\n",
            "[[11 12]\n",
            " [13 14]]\n"
          ]
        }
      ],
      "source": [
        "array1=np.array(np.arange(1,5).reshape(2,2))\n",
        "print(array1)\n",
        "array2=np.array(np.arange(11,15).reshape(2,2))\n",
        "print(array2)"
      ]
    },
    {
      "cell_type": "code",
      "execution_count": null,
      "id": "c4db25a6",
      "metadata": {
        "colab": {
          "base_uri": "https://localhost:8080/"
        },
        "id": "c4db25a6",
        "outputId": "8382cb46-a3a0-47c6-aa07-2e1e76e243b1"
      },
      "outputs": [
        {
          "output_type": "stream",
          "name": "stdout",
          "text": [
            "[[[ 1  2]\n",
            "  [ 3  4]]\n",
            "\n",
            " [[11 12]\n",
            "  [13 14]]]\n"
          ]
        }
      ],
      "source": [
        "newarray=np.stack([array1,array2],axis=0)\n",
        "print(newarray)"
      ]
    },
    {
      "cell_type": "code",
      "execution_count": null,
      "id": "96b50293",
      "metadata": {
        "colab": {
          "base_uri": "https://localhost:8080/"
        },
        "id": "96b50293",
        "outputId": "3de72c58-a7e1-4a70-f715-6eac4deed4b2"
      },
      "outputs": [
        {
          "output_type": "stream",
          "name": "stdout",
          "text": [
            "[[[ 1  2]\n",
            "  [11 12]]\n",
            "\n",
            " [[ 3  4]\n",
            "  [13 14]]]\n"
          ]
        }
      ],
      "source": [
        "newarray=np.stack([array1,array2],axis=1)\n",
        "print(newarray)"
      ]
    },
    {
      "cell_type": "markdown",
      "id": "fa3f5811",
      "metadata": {
        "id": "fa3f5811"
      },
      "source": [
        "# 10. Append"
      ]
    },
    {
      "cell_type": "code",
      "execution_count": null,
      "id": "8a6ae60f",
      "metadata": {
        "colab": {
          "base_uri": "https://localhost:8080/"
        },
        "id": "8a6ae60f",
        "outputId": "ca4ee7ea-4565-4133-b817-e17596324014"
      },
      "outputs": [
        {
          "output_type": "stream",
          "name": "stdout",
          "text": [
            "[[1 2 3]\n",
            " [4 5 6]\n",
            " [7 8 9]]\n",
            "[[21 22 23]\n",
            " [24 25 26]\n",
            " [27 28 29]]\n"
          ]
        }
      ],
      "source": [
        "array1=np.arange(1,10).reshape(3,3)\n",
        "print(array1)\n",
        "array2=np.arange(21,30).reshape(3,3)\n",
        "print(array2)"
      ]
    },
    {
      "cell_type": "code",
      "execution_count": null,
      "id": "cc88f47c",
      "metadata": {
        "colab": {
          "base_uri": "https://localhost:8080/"
        },
        "id": "cc88f47c",
        "outputId": "dd3ef521-9286-4cc4-9bd8-7e5afda1e21a"
      },
      "outputs": [
        {
          "output_type": "execute_result",
          "data": {
            "text/plain": [
              "array([[ 1,  2,  3],\n",
              "       [ 4,  5,  6],\n",
              "       [ 7,  8,  9],\n",
              "       [21, 22, 23],\n",
              "       [24, 25, 26],\n",
              "       [27, 28, 29]])"
            ]
          },
          "metadata": {},
          "execution_count": 34
        }
      ],
      "source": [
        "np.append(array1,array2,axis=0)"
      ]
    },
    {
      "cell_type": "code",
      "execution_count": null,
      "id": "9abb6366",
      "metadata": {
        "colab": {
          "base_uri": "https://localhost:8080/"
        },
        "id": "9abb6366",
        "outputId": "3810a8f3-e98d-4cac-d648-a9b43f5ef3d1"
      },
      "outputs": [
        {
          "output_type": "execute_result",
          "data": {
            "text/plain": [
              "array([[ 1,  2,  3, 21, 22, 23],\n",
              "       [ 4,  5,  6, 24, 25, 26],\n",
              "       [ 7,  8,  9, 27, 28, 29]])"
            ]
          },
          "metadata": {},
          "execution_count": 35
        }
      ],
      "source": [
        "np.append(array1,array2,axis=1)"
      ]
    },
    {
      "cell_type": "markdown",
      "id": "badbea41",
      "metadata": {
        "id": "badbea41"
      },
      "source": [
        "# 11. Concat"
      ]
    },
    {
      "cell_type": "code",
      "execution_count": null,
      "id": "c6029bae",
      "metadata": {
        "colab": {
          "base_uri": "https://localhost:8080/"
        },
        "id": "c6029bae",
        "outputId": "e54968e1-5ebf-4232-dd64-defb220772e5"
      },
      "outputs": [
        {
          "output_type": "stream",
          "name": "stdout",
          "text": [
            "[[1 2 3]\n",
            " [4 5 6]\n",
            " [7 8 9]]\n",
            "[[21 22 23]\n",
            " [24 25 26]\n",
            " [27 28 29]]\n"
          ]
        }
      ],
      "source": [
        "array1=np.arange(1,10).reshape(3,3)\n",
        "print(array1)\n",
        "array2=np.arange(21,30).reshape(3,3)\n",
        "print(array2)"
      ]
    },
    {
      "cell_type": "code",
      "execution_count": null,
      "id": "7d31165b",
      "metadata": {
        "colab": {
          "base_uri": "https://localhost:8080/"
        },
        "id": "7d31165b",
        "outputId": "3380b217-eb48-4419-9a56-4fa9096b2116"
      },
      "outputs": [
        {
          "output_type": "execute_result",
          "data": {
            "text/plain": [
              "array([[ 1,  2,  3],\n",
              "       [ 4,  5,  6],\n",
              "       [ 7,  8,  9],\n",
              "       [21, 22, 23],\n",
              "       [24, 25, 26],\n",
              "       [27, 28, 29]])"
            ]
          },
          "metadata": {},
          "execution_count": 37
        }
      ],
      "source": [
        "np.concatenate((array1,array2),axis=0)"
      ]
    },
    {
      "cell_type": "code",
      "execution_count": null,
      "id": "586dc0c8",
      "metadata": {
        "colab": {
          "base_uri": "https://localhost:8080/"
        },
        "id": "586dc0c8",
        "outputId": "ef1cbac9-3be8-44d4-f533-a1fe635cce9b"
      },
      "outputs": [
        {
          "output_type": "execute_result",
          "data": {
            "text/plain": [
              "array([[ 1,  2,  3, 21, 22, 23],\n",
              "       [ 4,  5,  6, 24, 25, 26],\n",
              "       [ 7,  8,  9, 27, 28, 29]])"
            ]
          },
          "metadata": {},
          "execution_count": 38
        }
      ],
      "source": [
        "np.concatenate((array1,array2),axis=1)"
      ]
    },
    {
      "cell_type": "code",
      "execution_count": null,
      "id": "745751af",
      "metadata": {
        "id": "745751af"
      },
      "outputs": [],
      "source": []
    }
  ],
  "metadata": {
    "kernelspec": {
      "display_name": "Python 3",
      "language": "python",
      "name": "python3"
    },
    "language_info": {
      "codemirror_mode": {
        "name": "ipython",
        "version": 3
      },
      "file_extension": ".py",
      "mimetype": "text/x-python",
      "name": "python",
      "nbconvert_exporter": "python",
      "pygments_lexer": "ipython3",
      "version": "3.8.8"
    },
    "colab": {
      "provenance": [],
      "include_colab_link": true
    }
  },
  "nbformat": 4,
  "nbformat_minor": 5
}