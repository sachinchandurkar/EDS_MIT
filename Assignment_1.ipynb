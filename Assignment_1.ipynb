{
  "nbformat": 4,
  "nbformat_minor": 0,
  "metadata": {
    "colab": {
      "provenance": [],
      "include_colab_link": true
    },
    "kernelspec": {
      "name": "python3",
      "display_name": "Python 3"
    },
    "language_info": {
      "name": "python"
    }
  },
  "cells": [
    {
      "cell_type": "markdown",
      "metadata": {
        "id": "view-in-github",
        "colab_type": "text"
      },
      "source": [
        "<a href=\"https://colab.research.google.com/github/sachinchandurkar/EDS_MIT/blob/main/Assignment_1.ipynb\" target=\"_parent\"><img src=\"https://colab.research.google.com/assets/colab-badge.svg\" alt=\"Open In Colab\"/></a>"
      ]
    },
    {
      "cell_type": "code",
      "execution_count": null,
      "metadata": {
        "colab": {
          "base_uri": "https://localhost:8080/",
          "height": 831
        },
        "id": "uZyjiT0ZuSYz",
        "outputId": "c3dd12f3-c2ff-4640-9114-0e66189b97a3"
      },
      "outputs": [
        {
          "output_type": "stream",
          "name": "stdout",
          "text": [
            "['1', 'Pranav', 'Manager', '10000000']\n",
            "Employee IDs : [1]\n",
            "Employee Name : ['Pranav']\n",
            "Employee Designation : ['Manager']\n",
            "Employee Salary : [10000000]\n",
            "maximum salary of the company is : 10000000\n",
            "['2', 'Shila', 'Supervisor', '5000000']\n",
            "Employee IDs : [1, 2]\n",
            "Employee Name : ['Pranav', 'Shila']\n",
            "Employee Designation : ['Manager', 'Supervisor']\n",
            "Employee Salary : [10000000, 5000000]\n",
            "maximum salary of the company is : 10000000\n",
            "['3', 'Hardin', 'Executive', '2500000']\n",
            "Employee IDs : [1, 2, 3]\n",
            "Employee Name : ['Pranav', 'Shila', 'Hardin']\n",
            "Employee Designation : ['Manager', 'Supervisor', 'Executive']\n",
            "Employee Salary : [10000000, 5000000, 2500000]\n",
            "maximum salary of the company is : 10000000\n",
            "['4', 'Jon', 'Secretary', '1000000']\n",
            "Employee IDs : [1, 2, 3, 4]\n",
            "Employee Name : ['Pranav', 'Shila', 'Hardin', 'Jon']\n",
            "Employee Designation : ['Manager', 'Supervisor', 'Executive', 'Secretary']\n",
            "Employee Salary : [10000000, 5000000, 2500000, 1000000]\n",
            "maximum salary of the company is : 10000000\n",
            "['5', 'Sunny', 'Employee', '50000']\n",
            "Employee IDs : [1, 2, 3, 4, 5]\n",
            "Employee Name : ['Pranav', 'Shila', 'Hardin', 'Jon', 'Sunny']\n",
            "Employee Designation : ['Manager', 'Supervisor', 'Executive', 'Secretary', 'Employee']\n",
            "Employee Salary : [10000000, 5000000, 2500000, 1000000, 50000]\n",
            "maximum salary of the company is : 10000000\n",
            "['']\n"
          ]
        },
        {
          "output_type": "error",
          "ename": "ValueError",
          "evalue": "ignored",
          "traceback": [
            "\u001b[0;31m---------------------------------------------------------------------------\u001b[0m",
            "\u001b[0;31mValueError\u001b[0m                                Traceback (most recent call last)",
            "\u001b[0;32m<ipython-input-20-6136d07e3a47>\u001b[0m in \u001b[0;36m<cell line: 10>\u001b[0;34m()\u001b[0m\n\u001b[1;32m     11\u001b[0m   \u001b[0mwords\u001b[0m \u001b[0;34m=\u001b[0m \u001b[0ml\u001b[0m\u001b[0;34m.\u001b[0m\u001b[0msplit\u001b[0m\u001b[0;34m(\u001b[0m\u001b[0;34m\",\"\u001b[0m\u001b[0;34m)\u001b[0m\u001b[0;34m\u001b[0m\u001b[0;34m\u001b[0m\u001b[0m\n\u001b[1;32m     12\u001b[0m   \u001b[0mprint\u001b[0m\u001b[0;34m(\u001b[0m\u001b[0mwords\u001b[0m\u001b[0;34m)\u001b[0m\u001b[0;34m\u001b[0m\u001b[0;34m\u001b[0m\u001b[0m\n\u001b[0;32m---> 13\u001b[0;31m   \u001b[0meid\u001b[0m\u001b[0;34m.\u001b[0m\u001b[0mappend\u001b[0m\u001b[0;34m(\u001b[0m\u001b[0mint\u001b[0m\u001b[0;34m(\u001b[0m\u001b[0mwords\u001b[0m\u001b[0;34m[\u001b[0m\u001b[0;36m0\u001b[0m\u001b[0;34m]\u001b[0m\u001b[0;34m)\u001b[0m\u001b[0;34m)\u001b[0m\u001b[0;34m\u001b[0m\u001b[0;34m\u001b[0m\u001b[0m\n\u001b[0m\u001b[1;32m     14\u001b[0m   \u001b[0mnm\u001b[0m\u001b[0;34m.\u001b[0m\u001b[0mappend\u001b[0m\u001b[0;34m(\u001b[0m\u001b[0mwords\u001b[0m\u001b[0;34m[\u001b[0m\u001b[0;36m1\u001b[0m\u001b[0;34m]\u001b[0m\u001b[0;34m)\u001b[0m\u001b[0;34m\u001b[0m\u001b[0;34m\u001b[0m\u001b[0m\n\u001b[1;32m     15\u001b[0m   \u001b[0mdesgn\u001b[0m\u001b[0;34m.\u001b[0m\u001b[0mappend\u001b[0m\u001b[0;34m(\u001b[0m\u001b[0mwords\u001b[0m\u001b[0;34m[\u001b[0m\u001b[0;36m2\u001b[0m\u001b[0;34m]\u001b[0m\u001b[0;34m)\u001b[0m\u001b[0;34m\u001b[0m\u001b[0;34m\u001b[0m\u001b[0m\n",
            "\u001b[0;31mValueError\u001b[0m: invalid literal for int() with base 10: ''"
          ]
        }
      ],
      "source": [
        "#@title Default title text\n",
        "#find the statistical analysis of employees records\n",
        "\n",
        "f = open(\"/content/sample_data/emp.csv\",\"r\")\n",
        "\n",
        "contents = f.read()\n",
        "lines = contents.split(\"\\n\")\n",
        "\n",
        "eid = []; nm = []; desgn = []; sal = [];\n",
        "\n",
        "for l in lines:\n",
        "  words = l.split(\",\")\n",
        "  print(words)\n",
        "  eid.append(int(words[0]))\n",
        "  nm.append(words[1])\n",
        "  desgn.append(words[2])\n",
        "  sal.append(int(words[3]))\n",
        "  print(\"Employee IDs :\",eid)\n",
        "  print(\"Employee Name :\",nm)\n",
        "  print(\"Employee Designation :\",desgn)\n",
        "  print(\"Employee Salary :\",sal)\n",
        "\n",
        "  #max salary\n",
        "  print(\"maximum salary of the company is :\",max(sal))"
      ]
    },
    {
      "cell_type": "code",
      "source": [],
      "metadata": {
        "id": "QLPstKY1lJJg"
      },
      "execution_count": null,
      "outputs": []
    }
  ]
}